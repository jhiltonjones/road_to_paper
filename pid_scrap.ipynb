{
 "cells": [
  {
   "cell_type": "code",
   "execution_count": 1,
   "id": "ddd2f8c0",
   "metadata": {},
   "outputs": [],
   "source": [
    "import numpy as np\n",
    "import matplotlib.pyplot as plt\n",
    "from beam_mechanics2_script import simulate_beam, m_dir_from_psi"
   ]
  },
  {
   "cell_type": "code",
   "execution_count": null,
   "id": "6c713a23",
   "metadata": {},
   "outputs": [],
   "source": [
    "def make_ref_constant(theta_deg):\n",
    "    \"\"\"Constant setpoint in degrees. Returns a callable f(t)->(theta_ref_rad, theta_ref_dot_rad_s).\"\"\"\n",
    "    theta_rad = np.deg2rad(theta_deg)\n",
    "    return lambda t: (theta_rad, 0.0)\n",
    "\n",
    "def make_ref_sine(A_deg, f_hz, offset_deg=0.0, phase_deg=0.0):\n",
    "    \"\"\"Sine reference θ_ref(t)=offset + A·sin(2πft+φ).\"\"\"\n",
    "    A = np.deg2rad(A_deg)\n",
    "    w = 2*np.pi*f_hz\n",
    "    off = np.deg2rad(offset_deg)\n",
    "    ph = np.deg2rad(phase_deg)\n",
    "    return lambda t: (off + A*np.sin(w*t + ph), A*w*np.cos(w*t + ph))"
   ]
  },
  {
   "cell_type": "code",
   "execution_count": null,
   "id": "a0332dcf",
   "metadata": {},
   "outputs": [],
   "source": [
    "theta_ref_deg = 20.0\n",
    "theta_ref_rad = np.deg2rad(theta_ref_deg)\n",
    "\n",
    "psi_min_deg = locals().get('psi_min_deg', -90.0)\n",
    "psi_max_deg = locals().get('psi_max_deg',  90.0)\n",
    "psi_rate_limit_deg = locals().get('psi_rate_limit_deg', 3.0)\n",
    "alpha_d = locals().get('alpha_d', 0.2)\n",
    "sign_g  = locals().get('sign_g', 1.0)\n",
    "\n",
    "Kp_pd = locals().get('Kp_pd', 1.5)\n",
    "Kd_pd = locals().get('Kd_pd', 0.05)"
   ]
  },
  {
   "cell_type": "code",
   "execution_count": null,
   "id": "e84ee3a4",
   "metadata": {},
   "outputs": [],
   "source": [
    "def run_PD():\n",
    "    # logs\n",
    "    t_hist, th_hist_deg, thref_hist_deg, psi_hist_deg, u_hist_deg = [], [], [], [], []\n",
    "    # state\n",
    "    psi_pd_deg = 0.0\n",
    "    prev_err_deg = 0.0\n",
    "    derr_filt = 0.0\n",
    "\n",
    "    N = int(Tsim/dt)\n",
    "    for k in range(N):\n",
    "        t = k*dt\n",
    "        # plant measure (rad)\n",
    "        theta_meas_rad, _, _, _ = simulate_beam(\n",
    "            p_vec, psi_pd_deg,\n",
    "            L=L, A_val=A_val, E_val=E_val, I_val=I_val,\n",
    "            MU0=MU0, MAGNET_M=MAGNET_M,\n",
    "            m_line_of_s=m_line_of_s,\n",
    "            s_steps=200\n",
    "        )\n",
    "        theta_meas_deg_PD = np.degrees(theta_meas_rad)\n",
    "\n",
    "        # PD error/filter\n",
    "        err_deg_PD  = theta_ref_deg - theta_meas_deg_PD\n",
    "        derr_raw    = (err_deg_PD - prev_err_deg) / dt\n",
    "        derr_filt   = (1 - alpha_d) * derr_filt + alpha_d * derr_raw\n",
    "        prev_err_deg = err_deg_PD\n",
    "\n",
    "        # PD control → Δψ, rate-limit & clamp ψ\n",
    "        delta_psi_deg_PD = sign_g * (Kp_pd * err_deg_PD + Kd_pd * derr_filt)\n",
    "        delta_psi_deg_PD = float(np.clip(delta_psi_deg_PD, -psi_rate_limit_deg, psi_rate_limit_deg))\n",
    "        psi_pd_deg = float(np.clip(psi_pd_deg + delta_psi_deg_PD, psi_min_deg, psi_max_deg))\n",
    "\n",
    "        # logs\n",
    "        t_hist.append(t)\n",
    "        th_hist_deg.append(theta_meas_deg_PD)\n",
    "        thref_hist_deg.append(theta_ref_deg)\n",
    "        psi_hist_deg.append(psi_pd_deg)\n",
    "        u_hist_deg.append(delta_psi_deg_PD/dt)  # approx ψ_dot in deg/s\n",
    "\n",
    "    return dict(\n",
    "        t=np.array(t_hist),\n",
    "        theta_deg=np.array(th_hist_deg),\n",
    "        theta_ref_deg=np.array(thref_hist_deg),\n",
    "        psi_deg=np.array(psi_hist_deg),\n",
    "        u_deg_s=np.array(u_hist_deg),\n",
    "    )"
   ]
  }
 ],
 "metadata": {
  "kernelspec": {
   "display_name": "base",
   "language": "python",
   "name": "python3"
  },
  "language_info": {
   "codemirror_mode": {
    "name": "ipython",
    "version": 3
   },
   "file_extension": ".py",
   "mimetype": "text/x-python",
   "name": "python",
   "nbconvert_exporter": "python",
   "pygments_lexer": "ipython3",
   "version": "3.12.1"
  }
 },
 "nbformat": 4,
 "nbformat_minor": 5
}
